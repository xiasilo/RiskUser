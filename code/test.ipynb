{
 "cells": [
  {
   "cell_type": "code",
   "execution_count": 24,
   "metadata": {},
   "outputs": [],
   "source": [
    "import pandas as pd\n",
    "import numpy as np\n",
    "import xgboost as xgb\n",
    "from xgboost.sklearn import XGBClassifier\n",
    "from sklearn import cross_validation, metrics\n",
    "from sklearn.grid_search import GridSearchCV\n",
    "\n",
    "import matplotlib.pylab as plt\n",
    "from matplotlib import rcParams\n",
    "rcParams['figure.figsize'] = 12, 4\n",
    "\n",
    "train = pd.read_csv('../data/train_featureV1.csv')\n",
    "target = 'label'\n",
    "IDcol = 'uid'"
   ]
  },
  {
   "cell_type": "code",
   "execution_count": 79,
   "metadata": {},
   "outputs": [
    {
     "data": {
      "text/html": [
       "<div>\n",
       "<style scoped>\n",
       "    .dataframe tbody tr th:only-of-type {\n",
       "        vertical-align: middle;\n",
       "    }\n",
       "\n",
       "    .dataframe tbody tr th {\n",
       "        vertical-align: top;\n",
       "    }\n",
       "\n",
       "    .dataframe thead th {\n",
       "        text-align: right;\n",
       "    }\n",
       "</style>\n",
       "<table border=\"1\" class=\"dataframe\">\n",
       "  <thead>\n",
       "    <tr style=\"text-align: right;\">\n",
       "      <th></th>\n",
       "      <th>uid</th>\n",
       "      <th>label</th>\n",
       "      <th>voice_opp_num_unique_count</th>\n",
       "      <th>voice_opp_num_count</th>\n",
       "      <th>voice_opp_head_unique_count</th>\n",
       "      <th>voice_opp_len_3</th>\n",
       "      <th>voice_opp_len_5</th>\n",
       "      <th>voice_opp_len_6</th>\n",
       "      <th>voice_opp_len_7</th>\n",
       "      <th>voice_opp_len_8</th>\n",
       "      <th>...</th>\n",
       "      <th>wa_up_flow_min</th>\n",
       "      <th>wa_up_flow_median</th>\n",
       "      <th>wa_up_flow_mean</th>\n",
       "      <th>wa_up_flow_sum</th>\n",
       "      <th>wa_down_flow_std</th>\n",
       "      <th>wa_down_flow_max</th>\n",
       "      <th>wa_down_flow_min</th>\n",
       "      <th>wa_down_flow_median</th>\n",
       "      <th>wa_down_flow_mean</th>\n",
       "      <th>wa_down_flow_sum</th>\n",
       "    </tr>\n",
       "  </thead>\n",
       "  <tbody>\n",
       "    <tr>\n",
       "      <th>0</th>\n",
       "      <td>u0001</td>\n",
       "      <td>0</td>\n",
       "      <td>22.0</td>\n",
       "      <td>79.0</td>\n",
       "      <td>17.0</td>\n",
       "      <td>0.0</td>\n",
       "      <td>3.0</td>\n",
       "      <td>0.0</td>\n",
       "      <td>0.0</td>\n",
       "      <td>0.0</td>\n",
       "      <td>...</td>\n",
       "      <td>0.0</td>\n",
       "      <td>6067.0</td>\n",
       "      <td>172279.362771</td>\n",
       "      <td>198982664.0</td>\n",
       "      <td>4.243115e+06</td>\n",
       "      <td>58773144.0</td>\n",
       "      <td>0.0</td>\n",
       "      <td>9683.0</td>\n",
       "      <td>8.325406e+05</td>\n",
       "      <td>9.615844e+08</td>\n",
       "    </tr>\n",
       "    <tr>\n",
       "      <th>1</th>\n",
       "      <td>u0002</td>\n",
       "      <td>0</td>\n",
       "      <td>2.0</td>\n",
       "      <td>2.0</td>\n",
       "      <td>1.0</td>\n",
       "      <td>0.0</td>\n",
       "      <td>0.0</td>\n",
       "      <td>0.0</td>\n",
       "      <td>0.0</td>\n",
       "      <td>0.0</td>\n",
       "      <td>...</td>\n",
       "      <td>0.0</td>\n",
       "      <td>2453.0</td>\n",
       "      <td>4433.551724</td>\n",
       "      <td>128573.0</td>\n",
       "      <td>3.908229e+03</td>\n",
       "      <td>15438.0</td>\n",
       "      <td>0.0</td>\n",
       "      <td>1656.0</td>\n",
       "      <td>3.267207e+03</td>\n",
       "      <td>9.474900e+04</td>\n",
       "    </tr>\n",
       "    <tr>\n",
       "      <th>2</th>\n",
       "      <td>u0003</td>\n",
       "      <td>0</td>\n",
       "      <td>15.0</td>\n",
       "      <td>21.0</td>\n",
       "      <td>10.0</td>\n",
       "      <td>0.0</td>\n",
       "      <td>1.0</td>\n",
       "      <td>0.0</td>\n",
       "      <td>0.0</td>\n",
       "      <td>2.0</td>\n",
       "      <td>...</td>\n",
       "      <td>0.0</td>\n",
       "      <td>3633.0</td>\n",
       "      <td>60843.138817</td>\n",
       "      <td>71003943.0</td>\n",
       "      <td>1.445421e+07</td>\n",
       "      <td>457021859.0</td>\n",
       "      <td>0.0</td>\n",
       "      <td>5632.0</td>\n",
       "      <td>1.115881e+06</td>\n",
       "      <td>1.302233e+09</td>\n",
       "    </tr>\n",
       "    <tr>\n",
       "      <th>3</th>\n",
       "      <td>u0004</td>\n",
       "      <td>0</td>\n",
       "      <td>77.0</td>\n",
       "      <td>254.0</td>\n",
       "      <td>31.0</td>\n",
       "      <td>0.0</td>\n",
       "      <td>1.0</td>\n",
       "      <td>0.0</td>\n",
       "      <td>0.0</td>\n",
       "      <td>12.0</td>\n",
       "      <td>...</td>\n",
       "      <td>0.0</td>\n",
       "      <td>5785.5</td>\n",
       "      <td>181739.734524</td>\n",
       "      <td>305322754.0</td>\n",
       "      <td>1.564955e+07</td>\n",
       "      <td>513377344.0</td>\n",
       "      <td>0.0</td>\n",
       "      <td>14205.0</td>\n",
       "      <td>2.082341e+06</td>\n",
       "      <td>3.498333e+09</td>\n",
       "    </tr>\n",
       "    <tr>\n",
       "      <th>4</th>\n",
       "      <td>u0005</td>\n",
       "      <td>0</td>\n",
       "      <td>55.0</td>\n",
       "      <td>401.0</td>\n",
       "      <td>28.0</td>\n",
       "      <td>0.0</td>\n",
       "      <td>4.0</td>\n",
       "      <td>0.0</td>\n",
       "      <td>0.0</td>\n",
       "      <td>0.0</td>\n",
       "      <td>...</td>\n",
       "      <td>0.0</td>\n",
       "      <td>4101.0</td>\n",
       "      <td>63241.511700</td>\n",
       "      <td>40537809.0</td>\n",
       "      <td>1.617302e+06</td>\n",
       "      <td>28858654.0</td>\n",
       "      <td>0.0</td>\n",
       "      <td>6916.0</td>\n",
       "      <td>3.556163e+05</td>\n",
       "      <td>2.279500e+08</td>\n",
       "    </tr>\n",
       "  </tbody>\n",
       "</table>\n",
       "<p>5 rows × 81 columns</p>\n",
       "</div>"
      ],
      "text/plain": [
       "     uid  label  voice_opp_num_unique_count  voice_opp_num_count  \\\n",
       "0  u0001      0                        22.0                 79.0   \n",
       "1  u0002      0                         2.0                  2.0   \n",
       "2  u0003      0                        15.0                 21.0   \n",
       "3  u0004      0                        77.0                254.0   \n",
       "4  u0005      0                        55.0                401.0   \n",
       "\n",
       "   voice_opp_head_unique_count  voice_opp_len_3  voice_opp_len_5  \\\n",
       "0                         17.0              0.0              3.0   \n",
       "1                          1.0              0.0              0.0   \n",
       "2                         10.0              0.0              1.0   \n",
       "3                         31.0              0.0              1.0   \n",
       "4                         28.0              0.0              4.0   \n",
       "\n",
       "   voice_opp_len_6  voice_opp_len_7  voice_opp_len_8        ...         \\\n",
       "0              0.0              0.0              0.0        ...          \n",
       "1              0.0              0.0              0.0        ...          \n",
       "2              0.0              0.0              2.0        ...          \n",
       "3              0.0              0.0             12.0        ...          \n",
       "4              0.0              0.0              0.0        ...          \n",
       "\n",
       "   wa_up_flow_min  wa_up_flow_median  wa_up_flow_mean  wa_up_flow_sum  \\\n",
       "0             0.0             6067.0    172279.362771     198982664.0   \n",
       "1             0.0             2453.0      4433.551724        128573.0   \n",
       "2             0.0             3633.0     60843.138817      71003943.0   \n",
       "3             0.0             5785.5    181739.734524     305322754.0   \n",
       "4             0.0             4101.0     63241.511700      40537809.0   \n",
       "\n",
       "   wa_down_flow_std  wa_down_flow_max  wa_down_flow_min  wa_down_flow_median  \\\n",
       "0      4.243115e+06        58773144.0               0.0               9683.0   \n",
       "1      3.908229e+03           15438.0               0.0               1656.0   \n",
       "2      1.445421e+07       457021859.0               0.0               5632.0   \n",
       "3      1.564955e+07       513377344.0               0.0              14205.0   \n",
       "4      1.617302e+06        28858654.0               0.0               6916.0   \n",
       "\n",
       "   wa_down_flow_mean  wa_down_flow_sum  \n",
       "0       8.325406e+05      9.615844e+08  \n",
       "1       3.267207e+03      9.474900e+04  \n",
       "2       1.115881e+06      1.302233e+09  \n",
       "3       2.082341e+06      3.498333e+09  \n",
       "4       3.556163e+05      2.279500e+08  \n",
       "\n",
       "[5 rows x 81 columns]"
      ]
     },
     "execution_count": 79,
     "metadata": {},
     "output_type": "execute_result"
    }
   ],
   "source": [
    "ttrain = train.drop(['uid','label'],axis=1)\n",
    "train.head(5)"
   ]
  },
  {
   "cell_type": "code",
   "execution_count": 19,
   "metadata": {},
   "outputs": [],
   "source": [
    "def evalMetric(preds,dtrain):\n",
    "    \n",
    "    label = dtrain.get_label()\n",
    "    \n",
    "    \n",
    "    pre = pd.DataFrame({'preds':preds,'label':label})\n",
    "    pre= pre.sort_values(by='preds',ascending=False)\n",
    "    \n",
    "    auc = metrics.roc_auc_score(pre.label,pre.preds)\n",
    "\n",
    "    pre.preds=pre.preds.map(lambda x: 1 if x>=0.5 else 0)\n",
    "\n",
    "    f1 = metrics.f1_score(pre.label,pre.preds)\n",
    "    \n",
    "    \n",
    "    res = 0.6*auc +0.4*f1\n",
    "    \n",
    "    return 'res',res,True"
   ]
  },
  {
   "cell_type": "code",
   "execution_count": 85,
   "metadata": {},
   "outputs": [],
   "source": [
    "def modelfit(alg, dtrain, predictors, useTrainCV=True, cv_folds=5, early_stopping_rounds=50):\n",
    "    if useTrainCV:\n",
    "        xgb_param = alg.get_xgb_params()\n",
    "        xgtrain = xgb.DMatrix(dtrain[predictors].values, train.label)\n",
    "        cvresult = xgb.cv(xgb_param,xgtrain)\n",
    "        alg.set_params(n_estimators=cvresult.shape[0])\n",
    "        \n",
    "    alg.fit(dtrain[predictors], dtrain.label)\n",
    "    \n",
    "    dtrain_predictions = alg.predict(dtrain[predictors])\n",
    "    dtrain_predprob = alg.predict_proba(dtrain[predictors])[:,1]\n",
    "    \n",
    "    print (\"Model Report\")\n",
    "    print (cvresult)\n",
    "    print (\"\\nAccuracy : %.4g\" % metrics.accuracy_score(dtrain['label'].values, dtrain_predictions))\n",
    "    print (\"ACU Score (Train): %f\" % metrics.roc_auc_score(dtrain['label'], dtrain_predprob))"
   ]
  },
  {
   "cell_type": "code",
   "execution_count": 130,
   "metadata": {},
   "outputs": [
    {
     "name": "stdout",
     "output_type": "stream",
     "text": [
      "Model Report\n",
      "   train-error-mean  train-error-std  test-error-mean  test-error-std\n",
      "0          0.123225         0.001673         0.161630        0.008566\n",
      "1          0.111622         0.005180         0.153830        0.004239\n",
      "2          0.107621         0.005917         0.151629        0.005332\n",
      "3          0.104520         0.006803         0.146429        0.001924\n",
      "4          0.105220         0.006904         0.145228        0.003175\n",
      "5          0.103420         0.004323         0.144828        0.006090\n",
      "6          0.102020         0.007498         0.145827        0.006327\n",
      "7          0.101920         0.007414         0.145628        0.003503\n",
      "8          0.102520         0.006295         0.143628        0.002787\n",
      "9          0.101020         0.005647         0.142627        0.005438\n",
      "\n",
      "Accuracy : 0.885\n",
      "ACU Score (Train): 0.938475\n"
     ]
    },
    {
     "name": "stderr",
     "output_type": "stream",
     "text": [
      "/usr/local/lib/python3.6/dist-packages/sklearn/preprocessing/label.py:151: DeprecationWarning: The truth value of an empty array is ambiguous. Returning False, but in future this will result in an error. Use `array.size > 0` to check that an array is not empty.\n",
      "  if diff:\n"
     ]
    }
   ],
   "source": [
    "predictors = [x for x in train.columns if x not in [target, IDcol]]\n",
    "xgb1 = XGBClassifier(\n",
    "    learning_rate = 0.03,\n",
    "    n_estimators = 700,\n",
    "    max_depth = 6,\n",
    "    min_child_weight = 2,\n",
    "    gamma = 0.1,\n",
    "    subsample = 0.8,\n",
    "    colsample_bytree = 0.8,\n",
    "    objective = 'binary:logistic',\n",
    "    scale_pos_weight = 1,\n",
    "    seed = 27,\n",
    "    num_boost_round=200,\n",
    "    nfold=5,\n",
    "    metrics='auc',\n",
    "    feval=evalMetric,\n",
    "    early_stopping_rounds=100\n",
    ")\n",
    "modelfit(xgb1, train, predictors)\n",
    "#Accuracy : 0.881  ACU Score (Train): 0.932427"
   ]
  },
  {
   "cell_type": "code",
   "execution_count": null,
   "metadata": {},
   "outputs": [],
   "source": [
    "## 调参 n_estimators"
   ]
  },
  {
   "cell_type": "code",
   "execution_count": 111,
   "metadata": {},
   "outputs": [
    {
     "data": {
      "text/plain": [
       "([mean: 0.89472, std: 0.02197, params: {'n_estimators': 50},\n",
       "  mean: 0.89433, std: 0.02182, params: {'n_estimators': 60},\n",
       "  mean: 0.89488, std: 0.02027, params: {'n_estimators': 70},\n",
       "  mean: 0.89401, std: 0.01981, params: {'n_estimators': 80},\n",
       "  mean: 0.89268, std: 0.01990, params: {'n_estimators': 90},\n",
       "  mean: 0.89273, std: 0.01993, params: {'n_estimators': 100},\n",
       "  mean: 0.89245, std: 0.01972, params: {'n_estimators': 110}],\n",
       " {'n_estimators': 70},\n",
       " 0.8948812601129674)"
      ]
     },
     "execution_count": 111,
     "metadata": {},
     "output_type": "execute_result"
    }
   ],
   "source": [
    "param_test1 = {\n",
    "    'n_estimators': list(range(50, 111, 10))\n",
    "}\n",
    "estimator1 = XGBClassifier(\n",
    "    learning_rate = 0.1,\n",
    "    n_estimators = 70,\n",
    "    max_depth = 6,\n",
    "    min_child_weight = 1,\n",
    "    gamma = 0,\n",
    "    subsample = 0.8,\n",
    "    colsample_bytree = 0.8,\n",
    "    objective = 'binary:logistic',\n",
    "    scale_pos_weight = 1,\n",
    "    seed = 27\n",
    ")\n",
    "gsearch1 = GridSearchCV(estimator1, param_grid=param_test1,scoring='roc_auc',n_jobs=4,iid=False, cv=5)\n",
    "gsearch1.fit(train[predictors], train[target])\n",
    "gsearch1.grid_scores_, gsearch1.best_params_, gsearch1.best_score_\n",
    "#{'n_estimators': 70}, 0.8948812601129674)"
   ]
  },
  {
   "cell_type": "code",
   "execution_count": 113,
   "metadata": {},
   "outputs": [
    {
     "data": {
      "text/plain": [
       "([mean: 0.89598, std: 0.02280, params: {'max_depth': 4, 'min_child_weight': 1},\n",
       "  mean: 0.89498, std: 0.02266, params: {'max_depth': 4, 'min_child_weight': 2},\n",
       "  mean: 0.89525, std: 0.02299, params: {'max_depth': 4, 'min_child_weight': 3},\n",
       "  mean: 0.89563, std: 0.02504, params: {'max_depth': 5, 'min_child_weight': 1},\n",
       "  mean: 0.89623, std: 0.02253, params: {'max_depth': 5, 'min_child_weight': 2},\n",
       "  mean: 0.89463, std: 0.02223, params: {'max_depth': 5, 'min_child_weight': 3},\n",
       "  mean: 0.89488, std: 0.02027, params: {'max_depth': 6, 'min_child_weight': 1},\n",
       "  mean: 0.89602, std: 0.02060, params: {'max_depth': 6, 'min_child_weight': 2},\n",
       "  mean: 0.89472, std: 0.02263, params: {'max_depth': 6, 'min_child_weight': 3}],\n",
       " {'max_depth': 5, 'min_child_weight': 2},\n",
       " 0.8962341046487389)"
      ]
     },
     "execution_count": 113,
     "metadata": {},
     "output_type": "execute_result"
    }
   ],
   "source": [
    "param_test2 = {\n",
    "    'max_depth': [4, 5, 6],\n",
    "    'min_child_weight': [1, 2, 3]\n",
    "}\n",
    "estimator2 = XGBClassifier(\n",
    "    learning_rate = 0.1,\n",
    "    n_estimators = 70,\n",
    "    max_depth = 5,\n",
    "    min_child_weight = 2,\n",
    "    gamma = 0,\n",
    "    subsample = 0.8,\n",
    "    colsample_bytree = 0.8,\n",
    "    objective = 'binary:logistic',\n",
    "    scale_pos_weight = 1,\n",
    "    seed = 27\n",
    ")\n",
    "gsearch2 = GridSearchCV(estimator2, param_grid=param_test2,scoring='roc_auc',n_jobs=4,iid=False, cv=5)\n",
    "gsearch2.fit(train[predictors], train[target])\n",
    "gsearch2.grid_scores_, gsearch2.best_params_, gsearch2.best_score_\n",
    "#{'max_depth': 5, 'min_child_weight': 1}, 0.8956325398479871)\n",
    "#{'max_depth': 5, 'min_child_weight': 2}, 0.8962341046487389)"
   ]
  },
  {
   "cell_type": "code",
   "execution_count": 114,
   "metadata": {},
   "outputs": [
    {
     "data": {
      "text/plain": [
       "([mean: 0.89401, std: 0.01981, params: {'gamma': 0.0},\n",
       "  mean: 0.89530, std: 0.02080, params: {'gamma': 0.1},\n",
       "  mean: 0.89463, std: 0.02139, params: {'gamma': 0.2},\n",
       "  mean: 0.89512, std: 0.02246, params: {'gamma': 0.3},\n",
       "  mean: 0.89476, std: 0.01984, params: {'gamma': 0.4}],\n",
       " {'gamma': 0.1},\n",
       " 0.8953036802101844)"
      ]
     },
     "execution_count": 114,
     "metadata": {},
     "output_type": "execute_result"
    }
   ],
   "source": [
    "param_test3 = {\n",
    "    'gamma': [i / 10.0 for i in range(0, 5)]\n",
    "}\n",
    "estimator3 = XGBClassifier(\n",
    "    learning_rate = 0.1,\n",
    "    n_estimators = 70,\n",
    "    max_depth = 5,\n",
    "    min_child_weight = 2,\n",
    "    gamma = 0.1,\n",
    "    subsample = 0.8,\n",
    "    colsample_bytree = 0.8,\n",
    "    objective = 'binary:logistic',\n",
    "    scale_pos_weight = 1,\n",
    "    seed = 27\n",
    ")\n",
    "gsearch3 = GridSearchCV(estimator1, param_grid=param_test3,scoring='roc_auc',n_jobs=4,iid=False, cv=5)\n",
    "gsearch3.fit(train[predictors], train[target])\n",
    "gsearch3.grid_scores_, gsearch3.best_params_, gsearch3.best_score_\n",
    "#{'gamma': 0.1}, 0.8953036802101844)"
   ]
  },
  {
   "cell_type": "code",
   "execution_count": 131,
   "metadata": {},
   "outputs": [],
   "source": [
    "model=xgb1.fit(train[predictors], train.label)"
   ]
  },
  {
   "cell_type": "code",
   "execution_count": 133,
   "metadata": {},
   "outputs": [
    {
     "name": "stderr",
     "output_type": "stream",
     "text": [
      "/usr/local/lib/python3.6/dist-packages/sklearn/preprocessing/label.py:151: DeprecationWarning: The truth value of an empty array is ambiguous. Returning False, but in future this will result in an error. Use `array.size > 0` to check that an array is not empty.\n",
      "  if diff:\n"
     ]
    }
   ],
   "source": [
    "test = pd.read_csv('../data/test_featureV1.csv')\n",
    "preds = model.predict(test[predictors])"
   ]
  },
  {
   "cell_type": "code",
   "execution_count": 134,
   "metadata": {},
   "outputs": [
    {
     "data": {
      "text/plain": [
       "array([0, 0, 0, ..., 0, 0, 0])"
      ]
     },
     "execution_count": 134,
     "metadata": {},
     "output_type": "execute_result"
    }
   ],
   "source": [
    "preds"
   ]
  },
  {
   "cell_type": "code",
   "execution_count": 135,
   "metadata": {},
   "outputs": [],
   "source": [
    "res =pd.DataFrame({'uid':test.uid,'label':preds})"
   ]
  },
  {
   "cell_type": "code",
   "execution_count": 136,
   "metadata": {},
   "outputs": [],
   "source": [
    "res=res.sort_values(by='label',ascending=False)"
   ]
  },
  {
   "cell_type": "code",
   "execution_count": 138,
   "metadata": {},
   "outputs": [],
   "source": [
    "res.to_csv('../result/xgb-baseline2.csv',index=False,header=False,sep=',',columns=['uid','label'])"
   ]
  },
  {
   "cell_type": "code",
   "execution_count": null,
   "metadata": {},
   "outputs": [],
   "source": []
  }
 ],
 "metadata": {
  "kernelspec": {
   "display_name": "Python 3",
   "language": "python",
   "name": "python3"
  },
  "language_info": {
   "codemirror_mode": {
    "name": "ipython",
    "version": 3
   },
   "file_extension": ".py",
   "mimetype": "text/x-python",
   "name": "python",
   "nbconvert_exporter": "python",
   "pygments_lexer": "ipython3",
   "version": "3.6.3"
  }
 },
 "nbformat": 4,
 "nbformat_minor": 2
}
