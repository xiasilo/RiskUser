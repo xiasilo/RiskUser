{
 "cells": [
  {
   "cell_type": "code",
   "execution_count": 1,
   "metadata": {},
   "outputs": [
    {
     "name": "stderr",
     "output_type": "stream",
     "text": [
      "/usr/lib/python3.6/importlib/_bootstrap.py:219: RuntimeWarning: numpy.dtype size changed, may indicate binary incompatibility. Expected 96, got 88\n",
      "  return f(*args, **kwds)\n"
     ]
    }
   ],
   "source": [
    "import pandas as pd\n",
    "import numpy as np\n",
    "from sklearn.ensemble import RandomForestClassifier\n",
    "from sklearn.grid_search import GridSearchCV\n",
    "from sklearn import cross_validation, metrics\n",
    "import matplotlib.pylab as plt"
   ]
  },
  {
   "cell_type": "code",
   "execution_count": 37,
   "metadata": {},
   "outputs": [],
   "source": [
    "train = pd.read_csv('../data/train_featureV1.csv')\n",
    "test = pd.read_csv('../data/test_featureV1.csv')"
   ]
  },
  {
   "cell_type": "code",
   "execution_count": 42,
   "metadata": {
    "scrolled": true
   },
   "outputs": [
    {
     "data": {
      "text/plain": [
       "uid                              0\n",
       "label                            0\n",
       "voice_opp_num_unique_count      12\n",
       "voice_opp_num_count             12\n",
       "voice_opp_head_unique_count     12\n",
       "voice_opp_len_3                 12\n",
       "voice_opp_len_5                 12\n",
       "voice_opp_len_6                 12\n",
       "voice_opp_len_7                 12\n",
       "voice_opp_len_8                 12\n",
       "voice_opp_len_9                 12\n",
       "voice_opp_len_10                12\n",
       "voice_opp_len_11                12\n",
       "voice_opp_len_12                12\n",
       "voice_opp_len_13                12\n",
       "voice_opp_len_14                12\n",
       "voice_opp_len_15                12\n",
       "voice_opp_len_16                12\n",
       "voice_opp_len_17                12\n",
       "voice_opp_len_18                12\n",
       "voice_opp_len_19                12\n",
       "voice_opp_len_20                12\n",
       "voice_opp_len_21                12\n",
       "voice_opp_len_22                12\n",
       "voice_call_type_1               12\n",
       "voice_call_type_2               12\n",
       "voice_call_type_3               12\n",
       "voice_call_type_4               12\n",
       "voice_call_type_5               12\n",
       "voice_in_out_0                  12\n",
       "                              ... \n",
       "sms_opp_len_19                  40\n",
       "sms_opp_len_20                  40\n",
       "sms_in_out_0                    40\n",
       "sms_in_out_1                    40\n",
       "wa_name_unique_count             0\n",
       "wa_name_count                    0\n",
       "wa_visit_cnt_std               119\n",
       "wa_visit_cnt_max                54\n",
       "wa_visit_cnt_min                54\n",
       "wa_visit_cnt_median             54\n",
       "wa_visit_cnt_mean               54\n",
       "wa_visit_cnt_sum                 0\n",
       "wa_visit_dura_std              119\n",
       "wa_visit_dura_max               54\n",
       "wa_visit_dura_min               54\n",
       "wa_visit_dura_median            54\n",
       "wa_visit_dura_mean              54\n",
       "wa_visit_dura_sum                0\n",
       "wa_up_flow_std                 119\n",
       "wa_up_flow_max                  54\n",
       "wa_up_flow_min                  54\n",
       "wa_up_flow_median               54\n",
       "wa_up_flow_mean                 54\n",
       "wa_up_flow_sum                   0\n",
       "wa_down_flow_std               119\n",
       "wa_down_flow_max                54\n",
       "wa_down_flow_min                54\n",
       "wa_down_flow_median             54\n",
       "wa_down_flow_mean               54\n",
       "wa_down_flow_sum                 0\n",
       "Length: 81, dtype: int64"
      ]
     },
     "execution_count": 42,
     "metadata": {},
     "output_type": "execute_result"
    }
   ],
   "source": [
    "train.isnull().sum()"
   ]
  },
  {
   "cell_type": "code",
   "execution_count": 47,
   "metadata": {},
   "outputs": [
    {
     "data": {
      "text/plain": [
       "uid                            0\n",
       "label                          0\n",
       "voice_opp_num_unique_count     0\n",
       "voice_opp_num_count            0\n",
       "voice_opp_head_unique_count    0\n",
       "voice_opp_len_3                0\n",
       "voice_opp_len_5                0\n",
       "voice_opp_len_6                0\n",
       "voice_opp_len_7                0\n",
       "voice_opp_len_8                0\n",
       "voice_opp_len_9                0\n",
       "voice_opp_len_10               0\n",
       "voice_opp_len_11               0\n",
       "voice_opp_len_12               0\n",
       "voice_opp_len_13               0\n",
       "voice_opp_len_14               0\n",
       "voice_opp_len_15               0\n",
       "voice_opp_len_16               0\n",
       "voice_opp_len_17               0\n",
       "voice_opp_len_18               0\n",
       "voice_opp_len_19               0\n",
       "voice_opp_len_20               0\n",
       "voice_opp_len_21               0\n",
       "voice_opp_len_22               0\n",
       "voice_call_type_1              0\n",
       "voice_call_type_2              0\n",
       "voice_call_type_3              0\n",
       "voice_call_type_4              0\n",
       "voice_call_type_5              0\n",
       "voice_in_out_0                 0\n",
       "                              ..\n",
       "sms_opp_len_19                 0\n",
       "sms_opp_len_20                 0\n",
       "sms_in_out_0                   0\n",
       "sms_in_out_1                   0\n",
       "wa_name_unique_count           0\n",
       "wa_name_count                  0\n",
       "wa_visit_cnt_std               0\n",
       "wa_visit_cnt_max               0\n",
       "wa_visit_cnt_min               0\n",
       "wa_visit_cnt_median            0\n",
       "wa_visit_cnt_mean              0\n",
       "wa_visit_cnt_sum               0\n",
       "wa_visit_dura_std              0\n",
       "wa_visit_dura_max              0\n",
       "wa_visit_dura_min              0\n",
       "wa_visit_dura_median           0\n",
       "wa_visit_dura_mean             0\n",
       "wa_visit_dura_sum              0\n",
       "wa_up_flow_std                 0\n",
       "wa_up_flow_max                 0\n",
       "wa_up_flow_min                 0\n",
       "wa_up_flow_median              0\n",
       "wa_up_flow_mean                0\n",
       "wa_up_flow_sum                 0\n",
       "wa_down_flow_std               0\n",
       "wa_down_flow_max               0\n",
       "wa_down_flow_min               0\n",
       "wa_down_flow_median            0\n",
       "wa_down_flow_mean              0\n",
       "wa_down_flow_sum               0\n",
       "Length: 81, dtype: int64"
      ]
     },
     "execution_count": 47,
     "metadata": {},
     "output_type": "execute_result"
    }
   ],
   "source": [
    "train = train.fillna(0)\n",
    "test = test.fillna(0)"
   ]
  },
  {
   "cell_type": "code",
   "execution_count": 48,
   "metadata": {},
   "outputs": [],
   "source": [
    "x = train.drop(['uid','label'], axis=1)\n",
    "y = train['label']"
   ]
  },
  {
   "cell_type": "code",
   "execution_count": 49,
   "metadata": {},
   "outputs": [
    {
     "data": {
      "text/plain": [
       "0.8457691538307661"
      ]
     },
     "execution_count": 49,
     "metadata": {},
     "output_type": "execute_result"
    }
   ],
   "source": [
    "rf0 = RandomForestClassifier(n_jobs=-1,\n",
    "                             n_estimators=500,\n",
    "                             warm_start=True,\n",
    "                             max_depth=8,\n",
    "                             min_samples_leaf=2,\n",
    "                             max_features='sqrt',\n",
    "                             oob_score=True,\n",
    "                             random_state=10)\n",
    "rf0.fit(x, y)\n",
    "rf0.oob_score_"
   ]
  },
  {
   "cell_type": "code",
   "execution_count": 52,
   "metadata": {},
   "outputs": [],
   "source": [
    "pred=rf0.predict(test.drop(['uid'],axis=1))"
   ]
  },
  {
   "cell_type": "code",
   "execution_count": 54,
   "metadata": {},
   "outputs": [],
   "source": [
    "res =pd.DataFrame({'uid':test.uid,'label':pred})\n",
    "res=res.sort_values(by='label',ascending=False)\n",
    "res.label=res.label.map(lambda x: 1 if x>=0.5 else 0)\n",
    "res.label = res.label.map(lambda x: int(x))"
   ]
  },
  {
   "cell_type": "code",
   "execution_count": 55,
   "metadata": {},
   "outputs": [],
   "source": [
    "res.to_csv('../result/rf-baseline.csv',index=False,header=False,sep=',',columns=['uid','label'])"
   ]
  },
  {
   "cell_type": "code",
   "execution_count": 56,
   "metadata": {},
   "outputs": [
    {
     "data": {
      "text/plain": [
       "array([3.18076363e-02, 3.08253478e-02, 2.84739206e-02, 3.37089957e-04,\n",
       "       4.86651213e-03, 3.39581017e-04, 1.66612166e-03, 5.31043907e-03,\n",
       "       1.80401448e-03, 3.08562197e-03, 2.93103617e-02, 1.07841586e-01,\n",
       "       5.90657384e-04, 2.35053885e-04, 6.34776847e-03, 0.00000000e+00,\n",
       "       3.59154911e-05, 0.00000000e+00, 1.69608067e-04, 1.95635255e-05,\n",
       "       1.64365722e-05, 0.00000000e+00, 4.13927005e-02, 9.96982092e-03,\n",
       "       8.82556857e-03, 0.00000000e+00, 1.85591951e-04, 2.33677991e-02,\n",
       "       3.61205899e-02, 2.93388812e-02, 1.55627125e-02, 8.09809234e-03,\n",
       "       3.64286072e-04, 0.00000000e+00, 4.52667764e-05, 1.55754678e-03,\n",
       "       9.80503512e-05, 4.34030991e-03, 1.45898009e-02, 5.01536837e-02,\n",
       "       1.21011191e-03, 2.31738640e-02, 4.65707613e-03, 1.01977285e-01,\n",
       "       1.60925089e-03, 1.03970311e-03, 3.05202436e-04, 2.16321727e-04,\n",
       "       3.34880611e-04, 1.11031994e-04, 2.15278915e-04, 3.05256757e-02,\n",
       "       2.95762658e-02, 1.37523205e-02, 1.46664388e-02, 1.43934106e-02,\n",
       "       1.08692866e-02, 1.86510497e-04, 6.52474047e-03, 2.21168249e-02,\n",
       "       1.18671185e-02, 1.65625977e-02, 1.11015486e-02, 6.15977418e-04,\n",
       "       1.23165986e-02, 1.98837053e-02, 1.35788620e-02, 1.25728125e-02,\n",
       "       1.07760801e-02, 2.73641205e-03, 1.67304555e-02, 1.80389861e-02,\n",
       "       1.60076381e-02, 1.17297300e-02, 8.79130568e-03, 1.63874920e-03,\n",
       "       1.46917808e-02, 1.31110926e-02, 1.26931311e-02])"
      ]
     },
     "execution_count": 56,
     "metadata": {},
     "output_type": "execute_result"
    }
   ],
   "source": [
    "rf0.feature_importances_"
   ]
  },
  {
   "cell_type": "code",
   "execution_count": null,
   "metadata": {},
   "outputs": [],
   "source": []
  }
 ],
 "metadata": {
  "kernelspec": {
   "display_name": "Python 3",
   "language": "python",
   "name": "python3"
  },
  "language_info": {
   "codemirror_mode": {
    "name": "ipython",
    "version": 3
   },
   "file_extension": ".py",
   "mimetype": "text/x-python",
   "name": "python",
   "nbconvert_exporter": "python",
   "pygments_lexer": "ipython3",
   "version": "3.6.3"
  }
 },
 "nbformat": 4,
 "nbformat_minor": 2
}
