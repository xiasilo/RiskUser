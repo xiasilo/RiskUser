{
 "cells": [
  {
   "cell_type": "code",
   "execution_count": 1,
   "metadata": {},
   "outputs": [
    {
     "name": "stderr",
     "output_type": "stream",
     "text": [
      "/usr/local/lib/python3.6/dist-packages/sklearn/cross_validation.py:41: DeprecationWarning: This module was deprecated in version 0.18 in favor of the model_selection module into which all the refactored classes and functions are moved. Also note that the interface of the new CV iterators are different from that of this module. This module will be removed in 0.20.\n",
      "  \"This module will be removed in 0.20.\", DeprecationWarning)\n",
      "/usr/local/lib/python3.6/dist-packages/sklearn/grid_search.py:42: DeprecationWarning: This module was deprecated in version 0.18 in favor of the model_selection module into which all the refactored classes and functions are moved. This module will be removed in 0.20.\n",
      "  DeprecationWarning)\n"
     ]
    }
   ],
   "source": [
    "import pandas as pd\n",
    "import numpy as np\n",
    "import xgboost as xgb\n",
    "import matplotlib.pyplot as plt\n",
    "import seaborn as sns\n",
    "from xgboost.sklearn import XGBClassifier\n",
    "from sklearn import cross_validation, metrics\n",
    "from sklearn.grid_search import GridSearchCV"
   ]
  },
  {
   "cell_type": "code",
   "execution_count": 2,
   "metadata": {},
   "outputs": [],
   "source": [
    "train = pd.read_csv('../data/train_featureV1.csv')\n",
    "test = pd.read_csv('../data/test_featureV2.csv')"
   ]
  },
  {
   "cell_type": "code",
   "execution_count": 3,
   "metadata": {},
   "outputs": [],
   "source": [
    "#dtrain = lgb.Dataset(train.drop(['uid','label'],axis=1),label=train.label)\n",
    "#dtest = lgb.Dataset(test.drop(['uid'],axis=1))"
   ]
  },
  {
   "cell_type": "code",
   "execution_count": 4,
   "metadata": {},
   "outputs": [],
   "source": [
    "def evalMetric(preds,dtrain):\n",
    "    \n",
    "    label = dtrain.get_label()\n",
    "    \n",
    "    \n",
    "    pre = pd.DataFrame({'preds':preds,'label':label})\n",
    "    pre= pre.sort_values(by='preds',ascending=False)\n",
    "    \n",
    "    auc = metrics.roc_auc_score(pre.label,pre.preds)\n",
    "\n",
    "    pre.preds=pre.preds.map(lambda x: 1 if x>=0.5 else 0)\n",
    "\n",
    "    f1 = metrics.f1_score(pre.label,pre.preds)\n",
    "    \n",
    "    \n",
    "    res = 0.6*auc +0.4*f1\n",
    "    \n",
    "    return 'res',res"
   ]
  },
  {
   "cell_type": "code",
   "execution_count": 5,
   "metadata": {},
   "outputs": [],
   "source": [
    "xgb_params = {\n",
    "    'n_estimators':800,\n",
    "    'booster':'gbtree',\n",
    "    'objective':'binary:logistic',\n",
    "    'max_depth':8,\n",
    "    'gamma':0.1,\n",
    "    'subsample':0.8,\n",
    "    'colsample_bytree':0.8,\n",
    "    'lambda':1,\n",
    "    'eta':0.05,\n",
    "    'seed':2000,\n",
    "    'silent':0,\n",
    "    'max_delta_step':5,\n",
    "    #'eval_metric':evalMetric,\n",
    "    #'metrics':['evalMetric'],\n",
    "    #'num_class':4,\n",
    "    #'num_boost_round':250,\n",
    "    #'feval':evalMetric,\n",
    "    #'early_stopping_rounds':150,\n",
    "    'min_child_weight':1\n",
    "}"
   ]
  },
  {
   "cell_type": "markdown",
   "metadata": {},
   "source": [
    "### 本地CV"
   ]
  },
  {
   "cell_type": "code",
   "execution_count": 6,
   "metadata": {},
   "outputs": [
    {
     "name": "stdout",
     "output_type": "stream",
     "text": [
      "[0]\ttrain-error:0.106621+0.00422142\ttrain-res:0.816335+0.0099503\ttest-error:0.173032+0.0080425\ttest-res:0.675892+0.00360159\n",
      "[5]\ttrain-error:0.076615+0.00333978\ttrain-res:0.879454+0.00710133\ttest-error:0.146228+0.00587316\ttest-res:0.723344+0.0187501\n",
      "[10]\ttrain-error:0.0661133+0.00569737\ttrain-res:0.900299+0.0101555\ttest-error:0.145828+0.00574687\ttest-res:0.728915+0.0152333\n",
      "[15]\ttrain-error:0.0583117+0.00296063\ttrain-res:0.914887+0.00317454\ttest-error:0.143828+0.00322316\ttest-res:0.736733+0.00892657\n",
      "[20]\ttrain-error:0.05141+0.00225921\ttrain-res:0.927339+0.00182266\ttest-error:0.144828+0.00352215\ttest-res:0.735381+0.0115138\n",
      "[25]\ttrain-error:0.0449087+0.000289442\ttrain-res:0.938248+0.00117795\ttest-error:0.142828+0.00555082\ttest-res:0.74016+0.0124516\n",
      "[30]\ttrain-error:0.0381077+0.000845947\ttrain-res:0.948723+0.00131879\ttest-error:0.143028+0.00563858\ttest-res:0.743519+0.0146927\n",
      "[35]\ttrain-error:0.0361073+0.00163253\ttrain-res:0.952281+0.00230624\ttest-error:0.141628+0.00509286\ttest-res:0.745724+0.0127403\n",
      "[40]\ttrain-error:0.033207+0.00214164\ttrain-res:0.956748+0.00289096\ttest-error:0.139427+0.00437486\ttest-res:0.751077+0.0133554\n",
      "[45]\ttrain-error:0.030806+0.00149747\ttrain-res:0.960369+0.00199205\ttest-error:0.139227+0.00509313\ttest-res:0.752174+0.0125194\n",
      "[50]\ttrain-error:0.0281057+0.000860551\ttrain-res:0.964479+0.00110475\ttest-error:0.140227+0.00507283\ttest-res:0.75123+0.0110175\n",
      "[55]\ttrain-error:0.025205+0.00149419\ttrain-res:0.968477+0.00200587\ttest-error:0.140827+0.00507237\ttest-res:0.7508+0.0112539\n",
      "[60]\ttrain-error:0.0226047+0.00231885\ttrain-res:0.972137+0.00310474\ttest-error:0.138226+0.00534851\ttest-res:0.754993+0.00965645\n",
      "[65]\ttrain-error:0.0199043+0.00159667\ttrain-res:0.975759+0.00213557\ttest-error:0.139027+0.00450747\ttest-res:0.754929+0.0104686\n",
      "[70]\ttrain-error:0.018104+0.00157658\ttrain-res:0.978203+0.00200653\ttest-error:0.138227+0.00521915\ttest-res:0.756619+0.0103179\n",
      "[75]\ttrain-error:0.0160033+0.00268908\ttrain-res:0.980924+0.00327749\ttest-error:0.136626+0.00582313\ttest-res:0.760656+0.00894897\n",
      "[80]\ttrain-error:0.014303+0.00205577\ttrain-res:0.983087+0.00246458\ttest-error:0.136427+0.00573017\ttest-res:0.760846+0.0117322\n",
      "[85]\ttrain-error:0.0125027+0.00183966\ttrain-res:0.985328+0.00216042\ttest-error:0.135426+0.0062272\ttest-res:0.762634+0.0113937\n",
      "[90]\ttrain-error:0.009702+0.001349\ttrain-res:0.988701+0.0014985\ttest-error:0.135426+0.00493658\ttest-res:0.762749+0.0103104\n",
      "[95]\ttrain-error:0.009202+0.000616605\ttrain-res:0.989321+0.000672121\ttest-error:0.135626+0.00507384\ttest-res:0.763411+0.0111705\n"
     ]
    },
    {
     "data": {
      "text/html": [
       "<div>\n",
       "<style scoped>\n",
       "    .dataframe tbody tr th:only-of-type {\n",
       "        vertical-align: middle;\n",
       "    }\n",
       "\n",
       "    .dataframe tbody tr th {\n",
       "        vertical-align: top;\n",
       "    }\n",
       "\n",
       "    .dataframe thead th {\n",
       "        text-align: right;\n",
       "    }\n",
       "</style>\n",
       "<table border=\"1\" class=\"dataframe\">\n",
       "  <thead>\n",
       "    <tr style=\"text-align: right;\">\n",
       "      <th></th>\n",
       "      <th>train-error-mean</th>\n",
       "      <th>train-error-std</th>\n",
       "      <th>train-res-mean</th>\n",
       "      <th>train-res-std</th>\n",
       "      <th>test-error-mean</th>\n",
       "      <th>test-error-std</th>\n",
       "      <th>test-res-mean</th>\n",
       "      <th>test-res-std</th>\n",
       "    </tr>\n",
       "  </thead>\n",
       "  <tbody>\n",
       "    <tr>\n",
       "      <th>0</th>\n",
       "      <td>0.106621</td>\n",
       "      <td>0.004221</td>\n",
       "      <td>0.816335</td>\n",
       "      <td>0.00995</td>\n",
       "      <td>0.173032</td>\n",
       "      <td>0.008043</td>\n",
       "      <td>0.675892</td>\n",
       "      <td>0.003602</td>\n",
       "    </tr>\n",
       "  </tbody>\n",
       "</table>\n",
       "</div>"
      ],
      "text/plain": [
       "   train-error-mean  train-error-std  train-res-mean  train-res-std  \\\n",
       "0          0.106621         0.004221        0.816335        0.00995   \n",
       "\n",
       "   test-error-mean  test-error-std  test-res-mean  test-res-std  \n",
       "0         0.173032        0.008043       0.675892      0.003602  "
      ]
     },
     "execution_count": 6,
     "metadata": {},
     "output_type": "execute_result"
    }
   ],
   "source": [
    "dtrain = xgb.DMatrix(train.drop(['uid','label'],axis=1),label=train.label)\n",
    "xgb.cv(xgb_params,dtrain,feval=evalMetric,early_stopping_rounds=100,verbose_eval=5,num_boost_round=10000,nfold=3)"
   ]
  },
  {
   "cell_type": "code",
   "execution_count": 7,
   "metadata": {},
   "outputs": [],
   "source": []
  },
  {
   "cell_type": "code",
   "execution_count": 118,
   "metadata": {},
   "outputs": [],
   "source": [
    "#lgb.cv(lgb_params,dtrain,feval=evalMetric,early_stopping_rounds=100,verbose_eval=5,num_boost_round=10000,nfold=3,metrics=['evalMetric'])"
   ]
  },
  {
   "cell_type": "markdown",
   "metadata": {},
   "source": [
    "## 训练"
   ]
  },
  {
   "cell_type": "code",
   "execution_count": 7,
   "metadata": {},
   "outputs": [],
   "source": [
    "model=xgb.train(xgb_params,dtrain=dtrain)"
   ]
  },
  {
   "cell_type": "code",
   "execution_count": 8,
   "metadata": {},
   "outputs": [],
   "source": [
    "dtest = xgb.DMatrix(test.drop(['uid'],axis=1))\n",
    "pre=model.predict(dtest)"
   ]
  },
  {
   "cell_type": "code",
   "execution_count": 9,
   "metadata": {},
   "outputs": [],
   "source": [
    "res =pd.DataFrame({'uid':test.uid,'label':pre})\n"
   ]
  },
  {
   "cell_type": "code",
   "execution_count": 10,
   "metadata": {},
   "outputs": [],
   "source": [
    "res=res.sort_values(by='label',ascending=False)\n",
    "res.label=res.label.map(lambda x: 1 if x>=0.5 else 0)\n",
    "res.label = res.label.map(lambda x: int(x))"
   ]
  },
  {
   "cell_type": "code",
   "execution_count": 11,
   "metadata": {},
   "outputs": [],
   "source": [
    "res.to_csv('../resultB/xgb.csv',index=False,header=False,sep=',',columns=['uid','label'])"
   ]
  },
  {
   "cell_type": "code",
   "execution_count": null,
   "metadata": {
    "collapsed": true
   },
   "outputs": [],
   "source": []
  }
 ],
 "metadata": {
  "kernelspec": {
   "display_name": "Python 3",
   "language": "python",
   "name": "python3"
  },
  "language_info": {
   "codemirror_mode": {
    "name": "ipython",
    "version": 3
   },
   "file_extension": ".py",
   "mimetype": "text/x-python",
   "name": "python",
   "nbconvert_exporter": "python",
   "pygments_lexer": "ipython3",
   "version": "3.6.3"
  }
 },
 "nbformat": 4,
 "nbformat_minor": 2
}
